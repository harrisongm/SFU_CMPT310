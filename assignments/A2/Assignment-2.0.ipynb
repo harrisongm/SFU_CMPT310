{
 "cells": [
  {
   "cell_type": "markdown",
   "id": "7eefee55-e815-4075-8ba7-cf6e31b837d1",
   "metadata": {},
   "source": [
    "<div class=\"alert alert-danger\">\n",
    "    <h3>NOTE</h3>\n",
    "    <p>Before you submit this assignment, <strong>make sure everything runs as expected</strong>:</p>\n",
    "    <ol>\n",
    "        <li><strong>restart the kernel</strong> (in the menubar, select <strong>Kernel → Restart</strong>)\n",
    "        <li><strong>run all cells</strong> (in the menubar, select <strong>Cell → Run All</strong>)</li>\n",
    "    </ol>\n",
    "    <p>Make sure to complete every cell that states \"<strong><TT>YOUR CODE IN THIS CELL</TT></strong>\".</p>\n",
    "</div>"
   ]
  },
  {
   "cell_type": "markdown",
   "id": "5105bf91-4c5b-4a2c-8d5d-a18980c36c65",
   "metadata": {},
   "source": [
    "# Assignment #2\n",
    "\n",
    "<font color=red>**Due**:<font color=black> Sat Mar 4 11:59 PM"
   ]
  },
  {
   "cell_type": "markdown",
   "id": "304db598-86a5-47c4-b4a8-989a5379a9fe",
   "metadata": {},
   "source": [
    "<font color=red>**NOTE:**<font color=black> These questions are intended to get your feet wet in the spectrum and **breadth** of open research problems in NLP. They are *not* intended for you to explore a problem in any **depth**.\n",
    "\n",
    "For the coding questions, aim to have a simple, working prototype that you could revisit at a later time if you wanted to improve its performance.\n",
    "    \n",
    "A \"best practice\" is to work these out *by hand* first to know what is reasonable for your code to be able to do (knowing it can be done by a human). An example is identifying whether the word `run` is a verb or not. Can you determine whther `run` is a verb?\n",
    "    \n",
    "Note that some of the tasks in this assignment could be considered a Master's Thesis (if not a PhD thesis)! Do not get frustrated or overwhelmed by the difficulty of each problem.\n",
    "    \n",
    "Feel free to work with others but make sure you are submitting your own work."
   ]
  },
  {
   "cell_type": "markdown",
   "id": "2a84fcac-e085-4239-a956-a373e0e16766",
   "metadata": {},
   "source": [
    "---\n",
    "<font color=blue>\n",
    "    \n",
    "#### OBJECTIVES\n",
    "    \n",
    "<font color=black>\n",
    "\n",
    "* become familiar with the `JupyterLab Notebook` format for the assignments\n",
    "* embrace failure\n",
    "* learn from failure, don't just give up when something doesn't work\n",
    "* get your feet wet in seemingly simple text processing problems\n",
    "* become familiar with `NLTK`\n",
    "* encounter a variety of open problems in natural language processing *prior* to studying them formally (in order to motivate their formal study)\n",
    "* practice the workflow that will be used throughout this course: gather data, implement code, evaluate code, discuss\n",
    "* emphasize the **discussion** and **reflection** aspect of computing science/research"
   ]
  },
  {
   "cell_type": "markdown",
   "id": "4a2f9def-bb27-40d9-bc83-d1cfcb9d0a67",
   "metadata": {
    "tags": []
   },
   "source": [
    "---\n",
    "<font color=darkred>\n",
    "    \n",
    "# Preparation: NLTK Natural Language Toolkit\n",
    "\n",
    "<font color=black>\n",
    "\n",
    "**NLTK** stands for **Natural Language Toolkit**. It is written in **Python** and intended to be fairly easy to pick up.\n",
    "    \n",
    "The **NLTK book** is found here: https://www.nltk.org/book\n",
    "\n",
    "In order to complete this assignment you must complete Chapters #1, #2, and #3. It is recommended you not just read through the examples but create a **Jupyter Notebook** where you are typing the various commands as you go.\n",
    "\n",
    "A few of your other assignments will use **NLTK** as well."
   ]
  },
  {
   "cell_type": "markdown",
   "id": "130a5cbf-1467-4a7a-96c8-1e3aff5cb0e1",
   "metadata": {
    "tags": []
   },
   "source": [
    "---\n",
    "<font color=darkred>\n",
    "    \n",
    "# Question: Tokenizing Text\n",
    "\n",
    "<font color=black>"
   ]
  },
  {
   "cell_type": "markdown",
   "id": "9a84c771-5db9-435a-89fd-bbdd3cb88663",
   "metadata": {},
   "source": [
    "You will process text saved to the `text_data` variable. The variable is of type `String`.\n",
    "\n",
    "This data is know as a (very small) **dataset**, or sometimes referred to as **corpora**.\n",
    "The etymology of <font color=darkred>**corpora**<font color=black> is it comes from **corpus** or **corpse**, meaning the body of something. So **corpora** refers to a **body of texts** (or collection of texts)."
   ]
  },
  {
   "cell_type": "code",
   "execution_count": null,
   "id": "f2a9a6dd-9df1-4a54-bd98-d1399a8aa383",
   "metadata": {},
   "outputs": [],
   "source": [
    "text_data = \"\"\"\n",
    "Here’s to the crazy ones, the misfits, the rebels, the troublemakers, the round pegs in the square holes. The ones who see things differently — they’re not fond of rules. You can quote them, disagree with them, glorify or vilify them, but the only thing you can’t do is ignore them because they change things. They push the human race forward, and while some may see them as the crazy ones, we see genius, because the ones who are crazy enough to think\n",
    "that they can change the world, are the ones who do.\n",
    "The quote baove is by Steve Jobs. Mr. Jobs also said: I choose a lazy person to do a hard job. Because a lazy person will find an easy way to do it.\n",
    "\"\"\""
   ]
  },
  {
   "cell_type": "markdown",
   "id": "ba62116d-9daf-44bc-babb-9647131d4599",
   "metadata": {},
   "source": [
    "Break the above text into **paragraph tokens** (a list of paragraphs).\\\n",
    "How many paragraphs do you have?"
   ]
  },
  {
   "cell_type": "code",
   "execution_count": null,
   "id": "3914e2ee-6c71-43a4-b330-d50861b4737e",
   "metadata": {},
   "outputs": [],
   "source": [
    "# YOUR CODE IN THIS CELL\n",
    "#raise NotImplementedError() # Remove this after you have started implementing your code below\n",
    "\n",
    "\n",
    "\n",
    "number_of_paragraphs = 0\n",
    "print(number_of_paragraphs)"
   ]
  },
  {
   "cell_type": "markdown",
   "id": "87cfcbef-a78c-480d-b817-4340b3395916",
   "metadata": {},
   "source": [
    "Break the above text into **sentence tokens**.\\\n",
    "How many sentences do you have?"
   ]
  },
  {
   "cell_type": "code",
   "execution_count": null,
   "id": "f17d5cc1-5f87-4bd1-8a99-afa9b1a6b3aa",
   "metadata": {},
   "outputs": [],
   "source": [
    "# YOUR CODE IN THIS CELL\n",
    "raise NotImplementedError() # Remove this after you have started implementing your code below\n",
    "\n",
    "number_of_sentences = 0"
   ]
  },
  {
   "cell_type": "markdown",
   "id": "116f31d3-9608-4100-9d19-ae7a8aa97def",
   "metadata": {},
   "source": [
    "Break the above text into **word tokens**.\\\n",
    "How many words do you have?"
   ]
  },
  {
   "cell_type": "code",
   "execution_count": null,
   "id": "5445676d-2936-4818-83a2-1b4f5f9b16a0",
   "metadata": {},
   "outputs": [],
   "source": [
    "# YOUR CODE IN THIS CELL\n",
    "raise NotImplementedError() # Remove this after you have started implementing your code below\n",
    "\n",
    "number_of_words = 0"
   ]
  },
  {
   "cell_type": "markdown",
   "id": "a53a59c6-1fae-4901-bf4d-c3b18be7f381",
   "metadata": {
    "tags": []
   },
   "source": [
    "---\n",
    "\n",
    "<font color=darkred>\n",
    "    \n",
    "# Gathering Results: Frequency Distributions\n",
    "    \n",
    "<font color=black>"
   ]
  },
  {
   "cell_type": "markdown",
   "id": "f4f5c3af-72f4-4311-815c-9c523c7a2c0a",
   "metadata": {},
   "source": [
    "Determine what the most frequent words in the `text_data` variable are. List the top 20 most frequent words."
   ]
  },
  {
   "cell_type": "code",
   "execution_count": null,
   "id": "ff9db34a-e594-4ba6-8212-788b555a1100",
   "metadata": {},
   "outputs": [],
   "source": [
    "# YOUR CODE IN THIS CELL\n",
    "raise NotImplementedError() # Remove this after you have started implementing your code below\n",
    "\n",
    "\n",
    "\n",
    "\n"
   ]
  },
  {
   "cell_type": "markdown",
   "id": "8d52aa57-1309-475e-89c1-ce70a7900f44",
   "metadata": {},
   "source": [
    "---\n",
    "\n",
    "<font color=darkred>\n",
    "    \n",
    "# Reflection & Thoughts\n",
    "    \n",
    "<font color=black>"
   ]
  },
  {
   "cell_type": "markdown",
   "id": "a00ad57e-647a-48e8-a28b-19005a9ecffd",
   "metadata": {},
   "source": [
    "Discuss the following:\n",
    "* how well did your code do at tokenizing the text into words?\n",
    "* how did you evaluate whether it performed well?\n",
    "* is there anything surprising or unusual in your findings/results?\n",
    "* why did you get the results you did?\n",
    "* what can you do better to improve the performance/results?\n",
    "* what appears to potentially provide the biggest boost in performance if you could have taken care of the shortcoming?\n",
    "* how represent is the dataset of text data in general?"
   ]
  },
  {
   "cell_type": "markdown",
   "id": "411f8c20-c1ca-470e-965a-cd805381b16f",
   "metadata": {},
   "source": [
    "Write your **Reflection & Thoughts** here...  (REMOVE THIS LINE ONCE YOU BEGIN WRITING)\n",
    "\n",
    "\n",
    "\n",
    "\n",
    "\n",
    "\n",
    "\n"
   ]
  },
  {
   "cell_type": "markdown",
   "id": "f8e8ce5f-177e-41b4-993d-fc4822e25ef2",
   "metadata": {},
   "source": [
    "---\n",
    "\n",
    "<font color=#B6321C>\n",
    "    \n",
    "### RUBRIC\n",
    "\n",
    "<font color=black>\n",
    "\n",
    "I will be evaluating this assignment mostly by your attempt to explore and probe the problem (via code or via curiousity). The assignments will build on developing critical thinking and <font color=darkgreen>**asking questions**<font color=black>,  and <font color=darkred>*not coming up with the answers*<font color=black>."
   ]
  },
  {
   "cell_type": "markdown",
   "id": "9552899d-203c-4653-af7c-71b075eb1e14",
   "metadata": {},
   "source": [
    "A breakdown of the marking for this assignment:\n",
    "* <font color=#B6321C>[**15 marks**]<font color=black> for tokenizing the text:\n",
    "    * <font color=#B6321C>[**5 marks**]<font color=black> for tokenizing paragraphs\n",
    "    * <font color=#B6321C>[**5 marks**]<font color=black> for tokenizing sentences\n",
    "    * <font color=#B6321C>[**5 marks**]<font color=black> for tokenizing words\n",
    "* <font color=#B6321C>[**10 marks**]<font color=black> for presenting the frequency distributions of the top 20 most frequent words\n",
    "* <font color=#B6321C>[**25 marks**]<font color=black> for analysis of the experiment, thoughts about the results acquired, ideas for future work or what could possibly improve the current system's performance, general reflective thoughts"
   ]
  },
  {
   "cell_type": "markdown",
   "id": "833d9d73-cf32-463f-b891-e12b6fc0757a",
   "metadata": {},
   "source": [
    "The total of this assignment is <font color=#B6321C>[**50 marks**]<font color=black>. It will be scaled to be out of 10 on **Blackboard**.\\\n",
    "Most students will get close to perfect.\n",
    "    \n",
    "If you need help, feel free to email me any questions and/or post your questions to <font color=#B6321C>**Discord**<font color=black>."
   ]
  },
  {
   "cell_type": "markdown",
   "id": "a12a1355-69cc-45e4-adbf-9069506d1b77",
   "metadata": {},
   "source": [
    "---\n",
    "<font color=darkred>\n",
    "    \n",
    "# QUESTION: Creating Rules To Identify Verbs\n",
    "    \n",
    "<font color=black>"
   ]
  },
  {
   "cell_type": "markdown",
   "id": "645d4813-a8a6-4f74-b9cc-459ef1347bc1",
   "metadata": {},
   "source": [
    "Here is a list of **verbs** taken from https://eslgrammar.org/list-of-verbs:"
   ]
  },
  {
   "cell_type": "markdown",
   "id": "f6100859-b6c9-4b3d-b9af-699f118f86fb",
   "metadata": {},
   "source": [
    "> Accept\n",
    "Achieve\n",
    "Add\n",
    "Admire\n",
    "Admit\n",
    "Adopt\n",
    "Advise\n",
    "Agree\n",
    "Allow\n",
    "Announce\n",
    "Appreciate\n",
    "Approve\n",
    "Argue\n",
    "Arrive\n",
    "Ask\n",
    "Assist\n",
    "Attack\n",
    "Bake\n",
    "Bathe\n",
    "Be\n",
    "Beat\n",
    "Become\n",
    "Beg\n",
    "Behave\n",
    "Bet\n",
    "Boast\n",
    "Boil\n",
    "Borrow\n",
    "Breathe\n",
    "Bring\n",
    "Build\n",
    "Burn\n",
    "Bury\n",
    "bury\n",
    "Buried\n",
    "Burying\n",
    "Buy\n",
    "Call\n",
    "Catch\n",
    "Challenge\n",
    "Change\n",
    "Cheat\n",
    "Chew\n",
    "Choose\n",
    "Clap\n",
    "Clean\n",
    "Collect\n",
    "Compare\n",
    "Complain\n",
    "Confess\n",
    "Confuse\n",
    "Construct\n",
    "Control\n",
    "Copy\n",
    "Count\n",
    "Create\n",
    "Cry\n",
    "Damage\n",
    "Dance\n",
    "Deliver\n",
    "Destroy\n",
    "Disagree\n",
    "Drag\n",
    "Drive\n",
    "Drop\n",
    "Earn\n",
    "Eat\n",
    "Employ\n",
    "Encourage\n",
    "Enjoy\n",
    "Establish\n",
    "Estimate\n",
    "Exercise\n",
    "Expand\n",
    "Explain\n",
    "Fear\n",
    "Feel\n",
    "Fight\n",
    "Find\n",
    "Fly\n",
    "Forget\n",
    "Forgive\n",
    "Fry\n",
    "Gather\n",
    "Get\n",
    "Give\n",
    "Glow\n",
    "Greet\n",
    "Grow\n",
    "Guess\n",
    "Harass\n",
    "Hate\n",
    "Hear\n",
    "Help\n",
    "Hit\n",
    "Hope\n",
    "Identify\n",
    "Interrupt\n",
    "Introduce\n",
    "Irritate\n",
    "Jump\n",
    "Keep\n",
    "Kick\n",
    "Kiss\n",
    "Laugh\n",
    "Learn\n",
    "Leave\n",
    "Lend\n",
    "Lie\n",
    "Like\n",
    "Listen\n",
    "Lose\n",
    "Love\n",
    "Make\n",
    "Marry\n",
    "Measure\n",
    "Meet\n",
    "Move\n",
    "Murder\n",
    "Obey\n",
    "Offend\n",
    "Offer\n",
    "Open\n",
    "Paint\n",
    "Pay\n",
    "Pick\n",
    "Play\n",
    "Pray\n",
    "Print\n",
    "Pull\n",
    "Punch\n",
    "Punish\n",
    "Purchase\n",
    "Push\n",
    "Quit\n",
    "Race\n",
    "Read\n",
    "Relax\n",
    "Remember\n",
    "Reply\n",
    "Retire\n",
    "Rub\n",
    "See\n",
    "Select\n",
    "Sell\n",
    "Send\n",
    "Sing\n",
    "Snore\n",
    "Stand\n",
    "Stare\n",
    "Start\n",
    "Stink\n",
    "Study\n",
    "Sweep\n",
    "Swim\n",
    "Take\n",
    "Talk\n",
    "Teach\n",
    "Tear\n",
    "Tell\n",
    "Thank\n",
    "Travel\n",
    "Type\n",
    "Understand\n",
    "Use\n",
    "Visit\n",
    "Wait\n",
    "Walk\n",
    "Want\n",
    "Warn\n",
    "Wed\n",
    "Weep\n",
    "Wink\n",
    "Worry\n",
    "Write\n",
    "Yell"
   ]
  },
  {
   "cell_type": "markdown",
   "id": "5b3b15ce-48b7-4489-a9b7-3788677b5050",
   "metadata": {},
   "source": [
    "The above list of verbs is not intended to be comprehensive."
   ]
  },
  {
   "cell_type": "markdown",
   "id": "6ab0ccdc-e074-4e87-9562-ccbf7072ab04",
   "metadata": {},
   "source": [
    "<div class=\"alert alert-danger\">\n",
    "    <p>Note that you are not expected to use any actual algorithms or existing code/tools to perform this task. You are expected to approach the task naively and begin from scratch.</p>\n",
    "</div>"
   ]
  },
  {
   "cell_type": "markdown",
   "id": "230408e9-5d71-4dc6-ae84-58b963f5e0ef",
   "metadata": {},
   "source": [
    "#### READING FROM A FILE\n",
    "\n",
    "Copy the above list of verbs into a file called `list_of_verbs.txt`. Save this file at the same location as `Assignment-2.ipynb`, then execute the following code cell."
   ]
  },
  {
   "cell_type": "code",
   "execution_count": null,
   "id": "8935fb9f-eae1-482b-b227-0fdc03f11b68",
   "metadata": {},
   "outputs": [],
   "source": [
    "def read_list_of_verbs_from_file():\n",
    "    verb_file = open('list_of_verbs.txt')\n",
    "    file_contents = verb_file.read()\n",
    "    verb_file.close()\n",
    "    return file_contents.split(\"\\n\")\n",
    "\n",
    "list_of_verbs = read_list_of_verbs_from_file()\n",
    "\n",
    "# uncomment the next line to verify we have correctly read the file and parsed its contents into a list of verbs\n",
    "#print(list_of_verbs) "
   ]
  },
  {
   "cell_type": "markdown",
   "id": "a9d78955-8e52-4e6e-9599-4344e313e1eb",
   "metadata": {},
   "source": [
    "#### CREATING A SET OF RULES\n",
    "\n",
    "Use **Table 4.2** (from https://www.nltk.org/book/ch01.html) to create some potential rules/characteriztics for identifying whether a word is a **verb**. For example, if the word ends in `ing` then it can be considered a verb. Another simple rule to implement is to see if the word is in our `list_of_verbs`."
   ]
  },
  {
   "cell_type": "code",
   "execution_count": null,
   "id": "76f51d5b-e45f-4af3-99f4-1efa12cd4951",
   "metadata": {},
   "outputs": [],
   "source": [
    "def is_word_a_verb(word):\n",
    "    # here you will write the code to check if word is a verb\n",
    "    pass"
   ]
  },
  {
   "cell_type": "markdown",
   "id": "56143823-3aec-48b1-ba43-0ab4ac5ce30c",
   "metadata": {},
   "source": [
    "#### DATA TO TEST PERFORMANCE OF CODE\n",
    "\n",
    "An example of what the test data could look like is the following list of words:"
   ]
  },
  {
   "cell_type": "code",
   "execution_count": null,
   "id": "770beb0e-30da-4343-9a27-79788860280d",
   "metadata": {},
   "outputs": [],
   "source": [
    "testing_data = [\n",
    "    \"hat\",\n",
    "    \"run\",\n",
    "    \"sadness\",\n",
    "    \"crying\",\n",
    "    \"chew\",\n",
    "    \"kiss\"\n",
    "]"
   ]
  },
  {
   "cell_type": "markdown",
   "id": "1bf469b8-a9d0-4e38-a4be-0541e48b3c25",
   "metadata": {},
   "source": [
    "Your code will take one word at a time from the list and determine whether the word was a verb or not. For example:"
   ]
  },
  {
   "cell_type": "markdown",
   "id": "a234b239-2137-44b3-b110-e8d73e2759c1",
   "metadata": {},
   "source": [
    "`is_word_a_verb(\"hat\")`\n",
    "\n",
    "would return `False`, whereas:\n",
    "\n",
    "`is_word_a_verb(\"crying\")`\n",
    "\n",
    "would return `True`."
   ]
  },
  {
   "cell_type": "markdown",
   "id": "ab43e68f-434a-418e-9d5d-e926d702d7e2",
   "metadata": {},
   "source": [
    "Note that the list of words in `testing_data` are unrelated to each other, meaning they are not necessarily from the same sentence (or even the same document)."
   ]
  },
  {
   "cell_type": "markdown",
   "id": "34fa3f11-ba3a-472f-925a-d77eda5b213d",
   "metadata": {},
   "source": [
    "#### EVALUATION\n",
    "\n",
    "Evaluate how well your code performs on the list of words in `testing_data`.\n",
    "\n",
    "Add your own set of words to `testing_data` to further evaluate how robust your code is."
   ]
  },
  {
   "cell_type": "markdown",
   "id": "5fb32e58-6827-447e-8e20-da1cdbf70bb3",
   "metadata": {},
   "source": [
    "#### DISCUSSION\n",
    "\n",
    "Briefly discuss the performance of your code (1-2 paragraphs).\n",
    "\n",
    "What types of verbs did the code perform well on? What types of verbs did it not perform well on?\n",
    "\n",
    "Are there any problems with this approach in identifying whether a word is a verb?\n",
    "\n",
    "Are there any issues with the list of verbs in our `list_of_verbs.txt` file?"
   ]
  },
  {
   "cell_type": "markdown",
   "id": "2717bfc5-9199-43d0-814b-9cc2e25d404b",
   "metadata": {},
   "source": [
    "<div class=\"alert alert-info\">\n",
    "    <h4>PRO TIP</h4>\n",
    "    <p>The best approach to this question is to work on <strong>one aspect at a time</strong>. Since one aspect is not going to identify all possible verbs, treat each aspect as a <em>step</em> toward a destination where improvements are likely small increments.</p>\n",
    "</div>\n",
    "\n"
   ]
  },
  {
   "cell_type": "markdown",
   "id": "271e8fba-6d8a-4484-9631-0603bab6c794",
   "metadata": {},
   "source": [
    "<font color=#B6321C>\n",
    "    \n",
    "### RUBRIC\n",
    "\n",
    "<font color=black>\n",
    "\n",
    "We will be evaluating this section in part by your **ambition** in trying to capture difficult aspects of a verb, **not how well** you encoded the aspects of the verbs you were trying to capture.\\\n",
    "A breakdown of the marking for this task:\n",
    "* <font color=#B6321C>[**5 marks**]<font color=black> basic features gathered (trivial, used one or two builtin `NLTK`/`Python` methods in a simple way)\n",
    "* <font color=#B6321C>[**5 marks**]<font color=black> distinctly different aspects gathered (advanced), corresponding to aspects not exactly trivial to encode (tried using a few builtin `NLTK`/`Python` methods in a complex way)\n",
    "* <font color=#B6321C>[**5 marks**]<font color=black> discussion of results explaining the performance of the code"
   ]
  },
  {
   "cell_type": "markdown",
   "id": "84a69643-aa9b-49a2-baf8-03dfc9f86ce3",
   "metadata": {},
   "source": [
    "---\n",
    "\n",
    "<font color=darkred>\n",
    "    \n",
    "# QUESTION: Identifying Proper Names In A Text Document\n",
    "    \n",
    "<font color=black>\n",
    "    "
   ]
  },
  {
   "cell_type": "code",
   "execution_count": null,
   "id": "2f8c4b07-a3bc-4ec7-8215-7e3d234606fd",
   "metadata": {},
   "outputs": [],
   "source": [
    "text_data = \"\"\"\n",
    "Here’s to the crazy ones, the misfits, the rebels, the troublemakers, the round pegs in the square holes. The ones who see things differently — they’re not fond of rules. You can quote them, disagree with them, glorify or vilify them, but the only thing you can’t do is ignore them because they change things. They push the human race forward, and while some may see them as the crazy ones, we see genius, because the ones who are crazy enough to think\n",
    "that they can change the world, are the ones who do.\n",
    "The quote baove is by Steve Jobs. Mr. Jobs also said: I choose a lazy person to do a hard job. Because a lazy person will find an easy way to do it. Steve started the apple computer company with Steve Wozniak (aka `Woz'). Little known facts:\n",
    "Trump did not like Jobs. Jobs did not like Trump.\n",
    "\"\"\""
   ]
  },
  {
   "cell_type": "markdown",
   "id": "eedcbdf7-b58e-471e-bbd7-f57152aa6394",
   "metadata": {},
   "source": [
    "Similar to the previous question (\"*Creating Rules To Identify Verbs*\"), write code that automatically identifies all words/terms that are **proper names**. Use the sample text provided in `text_data` above."
   ]
  },
  {
   "cell_type": "markdown",
   "id": "e9a8815d-2278-4abe-b15e-240d17cc8276",
   "metadata": {},
   "source": [
    "<div class=\"alert alert-danger\">\n",
    "    <p>Note that you are not expected to use any actual algorithms or existing code/tools to perform this task. You are expected to approach the task naively and begin from scratch.</p>\n",
    "</div>"
   ]
  },
  {
   "cell_type": "markdown",
   "id": "73b560b6-7efe-4e98-afc6-00a282209276",
   "metadata": {},
   "source": [
    "Examples of **proper names** are:\n",
    "* John\n",
    "* Vancouver\n",
    "* Trudeau\n",
    "* Pierre Trudeau\n",
    "* British Columbia, Canada\n",
    "* Rememberance Day"
   ]
  },
  {
   "cell_type": "markdown",
   "id": "bf27039c-07be-48d2-abfa-344154963ffc",
   "metadata": {},
   "source": [
    "#### DISCUSSION\n",
    "\n",
    "Briefly discuss the performance of your code (1-2 paragraphs).\n",
    "\n",
    "What types of proper names did the code perform well on? What types of proper names did it not perform well on?"
   ]
  },
  {
   "cell_type": "markdown",
   "id": "9bef6a18-a2d7-4970-a888-4f5f02d49ec8",
   "metadata": {},
   "source": [
    "<font color=#B6321C>\n",
    "    \n",
    "### RUBRIC\n",
    "\n",
    "<font color=black>\n",
    "\n",
    "Again, we will be evaluating this section for your **ambition** in trying to capture different aspects of a proper name, **not how well** you coded the aspects of the proper names.\\\n",
    "A breakdown of the marking for this task:\n",
    "* <font color=#B6321C>[**5 marks**]<font color=black> basic features gathered (trivial, used one or two builtin `NLTK`/`Python` methods in a simple way)\n",
    "* <font color=#B6321C>[**5 marks**]<font color=black> distinctly different aspects gathered (advanced), corresponding to aspects not exactly trivial to encode (tried using a few builtin `NLTK`/`Python` methods in a complex way)\n",
    "* <font color=#B6321C>[**5 marks**]<font color=black> discussion of results explaining the performance of the code"
   ]
  }
 ],
 "metadata": {
  "kernelspec": {
   "display_name": "Python 3 (ipykernel)",
   "language": "python",
   "name": "python3"
  },
  "language_info": {
   "codemirror_mode": {
    "name": "ipython",
    "version": 3
   },
   "file_extension": ".py",
   "mimetype": "text/x-python",
   "name": "python",
   "nbconvert_exporter": "python",
   "pygments_lexer": "ipython3",
   "version": "3.9.13"
  }
 },
 "nbformat": 4,
 "nbformat_minor": 5
}
